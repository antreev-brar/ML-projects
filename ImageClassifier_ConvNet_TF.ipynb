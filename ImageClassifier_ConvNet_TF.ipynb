{
  "nbformat": 4,
  "nbformat_minor": 0,
  "metadata": {
    "colab": {
      "name": "ImageClassifier-ConvNet-TF.ipynb",
      "provenance": [],
      "authorship_tag": "ABX9TyNQ2V0egaeZAlGEYQffu/mc",
      "include_colab_link": true
    },
    "kernelspec": {
      "name": "python3",
      "display_name": "Python 3"
    },
    "accelerator": "GPU"
  },
  "cells": [
    {
      "cell_type": "markdown",
      "metadata": {
        "id": "view-in-github",
        "colab_type": "text"
      },
      "source": [
        "<a href=\"https://colab.research.google.com/github/antreev-brar/ML-projects/blob/master/ImageClassifier_ConvNet_TF.ipynb\" target=\"_parent\"><img src=\"https://colab.research.google.com/assets/colab-badge.svg\" alt=\"Open In Colab\"/></a>"
      ]
    },
    {
      "cell_type": "code",
      "metadata": {
        "id": "BE6rvXBYxVf9",
        "colab_type": "code",
        "colab": {
          "base_uri": "https://localhost:8080/",
          "height": 208
        },
        "outputId": "d91d00b9-09ec-4070-ff18-25e2884a6170"
      },
      "source": [
        "import tensorflow as tf\n",
        "import os\n",
        "import zipfile\n",
        "\n",
        "\n",
        "DESIRED_ACCURACY = 0.999\n",
        "\n",
        "!wget --no-check-certificate \\\n",
        "    \"https://storage.googleapis.com/laurencemoroney-blog.appspot.com/happy-or-sad.zip\" \\\n",
        "    -O \"/tmp/happy-or-sad.zip\"\n",
        "\n",
        "zip_ref = zipfile.ZipFile(\"/tmp/happy-or-sad.zip\", 'r')\n",
        "zip_ref.extractall(\"/tmp/h-or-s\")\n",
        "zip_ref.close()\n",
        "class myCallback(tf.keras.callbacks.Callback):\n",
        "      def on_epoch_end(self, epoch, logs={}):\n",
        "            if(logs.get('accuracy') > DESIRED_ACCURACY):\n",
        "                  print('Mission Completed')\n",
        "                  self.model.stop_training = True\n",
        "\n",
        "callbacks = myCallback()"
      ],
      "execution_count": 1,
      "outputs": [
        {
          "output_type": "stream",
          "text": [
            "--2020-05-03 18:22:14--  https://storage.googleapis.com/laurencemoroney-blog.appspot.com/happy-or-sad.zip\n",
            "Resolving storage.googleapis.com (storage.googleapis.com)... 172.217.13.240, 2607:f8b0:4004:814::2010\n",
            "Connecting to storage.googleapis.com (storage.googleapis.com)|172.217.13.240|:443... connected.\n",
            "HTTP request sent, awaiting response... 200 OK\n",
            "Length: 2670333 (2.5M) [application/zip]\n",
            "Saving to: ‘/tmp/happy-or-sad.zip’\n",
            "\n",
            "\r/tmp/happy-or-sad.z   0%[                    ]       0  --.-KB/s               \r/tmp/happy-or-sad.z 100%[===================>]   2.55M  --.-KB/s    in 0.02s   \n",
            "\n",
            "2020-05-03 18:22:14 (108 MB/s) - ‘/tmp/happy-or-sad.zip’ saved [2670333/2670333]\n",
            "\n"
          ],
          "name": "stdout"
        }
      ]
    },
    {
      "cell_type": "code",
      "metadata": {
        "id": "wLP-IVLyxYhX",
        "colab_type": "code",
        "colab": {}
      },
      "source": [
        "# This Code Block should Define and Compile the Model\n",
        "model = tf.keras.models.Sequential([\n",
        "        tf.keras.layers.Conv2D(16 ,(3,3),activation = 'relu' , input_shape = (150, 150 ,3) ),\n",
        "        tf.keras.layers.MaxPooling2D(2,2),\n",
        "        tf.keras.layers.Conv2D(32 ,(3,3) ,activation = 'relu'  ),\n",
        "        tf.keras.layers.MaxPooling2D(2,2),\n",
        "        tf.keras.layers.Conv2D(64 ,(3,3),activation = 'relu'  ),\n",
        "        tf.keras.layers.MaxPooling2D(2,2),\n",
        "        tf.keras.layers.Flatten(),\n",
        "        tf.keras.layers.Dense(512 , activation = 'relu'),\n",
        "        tf.keras.layers.Dense(1 , activation = 'sigmoid')\n",
        "])\n",
        "\n",
        "from tensorflow.keras.optimizers import RMSprop\n",
        "\n",
        "model.compile(optimizer= RMSprop(lr= 0.001),loss = 'binary_crossentropy',metrics = ['accuracy'])"
      ],
      "execution_count": 0,
      "outputs": []
    },
    {
      "cell_type": "code",
      "metadata": {
        "id": "wy6N-4SxxYkP",
        "colab_type": "code",
        "colab": {
          "base_uri": "https://localhost:8080/",
          "height": 34
        },
        "outputId": "bce770bd-76fb-4658-e17e-52d22d9112e3"
      },
      "source": [
        "# This code block should create an instance of an ImageDataGenerator called train_datagen \n",
        "# And a train_generator by calling train_datagen.flow_from_directory\n",
        "\n",
        "from tensorflow.keras.preprocessing.image import ImageDataGenerator\n",
        "\n",
        "train_datagen = ImageDataGenerator(rescale = 1/255)\n",
        "\n",
        "train_generator = train_datagen.flow_from_directory(\n",
        "        '/tmp/h-or-s',\n",
        "        target_size = (150,150),\n",
        "        batch_size = 5,\n",
        "        class_mode = 'binary')"
      ],
      "execution_count": 3,
      "outputs": [
        {
          "output_type": "stream",
          "text": [
            "Found 80 images belonging to 2 classes.\n"
          ],
          "name": "stdout"
        }
      ]
    },
    {
      "cell_type": "code",
      "metadata": {
        "id": "dn1MTsC3xYq2",
        "colab_type": "code",
        "colab": {
          "base_uri": "https://localhost:8080/",
          "height": 381
        },
        "outputId": "618040c6-fb0b-4e7e-cd14-3e266f034708"
      },
      "source": [
        "# This code block should call model.fit and train for\n",
        "\n",
        "model.fit_generator( \n",
        "         train_generator,\n",
        "        steps_per_epoch=8,\n",
        "        epochs=15,\n",
        "        verbose=1,\n",
        "        callbacks = [callbacks]\n",
        "        )"
      ],
      "execution_count": 4,
      "outputs": [
        {
          "output_type": "stream",
          "text": [
            "WARNING:tensorflow:From <ipython-input-4-ade4c4d21d8b>:7: Model.fit_generator (from tensorflow.python.keras.engine.training) is deprecated and will be removed in a future version.\n",
            "Instructions for updating:\n",
            "Please use Model.fit, which supports generators.\n",
            "Epoch 1/15\n",
            "8/8 [==============================] - 0s 12ms/step - loss: 1.9475 - accuracy: 0.4750\n",
            "Epoch 2/15\n",
            "8/8 [==============================] - 0s 11ms/step - loss: 0.6365 - accuracy: 0.6500\n",
            "Epoch 3/15\n",
            "8/8 [==============================] - 0s 11ms/step - loss: 0.2296 - accuracy: 0.9500\n",
            "Epoch 4/15\n",
            "8/8 [==============================] - 0s 12ms/step - loss: 0.3145 - accuracy: 0.8750\n",
            "Epoch 5/15\n",
            "8/8 [==============================] - 0s 11ms/step - loss: 0.1261 - accuracy: 0.9500\n",
            "Epoch 6/15\n",
            "8/8 [==============================] - 0s 11ms/step - loss: 0.2342 - accuracy: 0.9000\n",
            "Epoch 7/15\n",
            "8/8 [==============================] - 0s 11ms/step - loss: 0.1223 - accuracy: 0.9500\n",
            "Epoch 8/15\n",
            "6/8 [=====================>........] - ETA: 0s - loss: 0.0200 - accuracy: 1.0000Mission Completed\n",
            "8/8 [==============================] - 0s 11ms/step - loss: 0.0175 - accuracy: 1.0000\n"
          ],
          "name": "stdout"
        },
        {
          "output_type": "execute_result",
          "data": {
            "text/plain": [
              "<tensorflow.python.keras.callbacks.History at 0x7f0c002bc550>"
            ]
          },
          "metadata": {
            "tags": []
          },
          "execution_count": 4
        }
      ]
    },
    {
      "cell_type": "code",
      "metadata": {
        "id": "16z7Ji25xYxk",
        "colab_type": "code",
        "colab": {}
      },
      "source": [
        ""
      ],
      "execution_count": 0,
      "outputs": []
    }
  ]
}