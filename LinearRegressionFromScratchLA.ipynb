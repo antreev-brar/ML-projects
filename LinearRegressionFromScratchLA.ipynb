{
  "nbformat": 4,
  "nbformat_minor": 0,
  "metadata": {
    "colab": {
      "name": "LinearRegressionFromScratchLA.ipynb",
      "provenance": [],
      "authorship_tag": "ABX9TyPQsFJoQnAAjYGFpgwLavmJ",
      "include_colab_link": true
    },
    "kernelspec": {
      "name": "python3",
      "display_name": "Python 3"
    }
  },
  "cells": [
    {
      "cell_type": "markdown",
      "metadata": {
        "id": "view-in-github",
        "colab_type": "text"
      },
      "source": [
        "<a href=\"https://colab.research.google.com/github/antreev-brar/ML-projects/blob/master/LinearRegressionFromScratchLA.ipynb\" target=\"_parent\"><img src=\"https://colab.research.google.com/assets/colab-badge.svg\" alt=\"Open In Colab\"/></a>"
      ]
    },
    {
      "cell_type": "code",
      "metadata": {
        "id": "a7a69yKp4sE-",
        "colab_type": "code",
        "colab": {}
      },
      "source": [
        "import numpy as np\n",
        "import matplotlib.pyplot as plt\n"
      ],
      "execution_count": 0,
      "outputs": []
    },
    {
      "cell_type": "code",
      "metadata": {
        "id": "IHs7SZCv43RR",
        "colab_type": "code",
        "colab": {}
      },
      "source": [
        "num_point=100\n",
        "x = np.linspace(0, 100 , num_point)\n",
        "y = np.linspace(0, 100 , num_point)\n",
        "\n",
        "x+= np.random.normal(0,4,num_point)\n",
        "y+= np.random.normal(0,4,num_point)\n",
        "plt.scatter( x , y )\n",
        "plt.xlabel('x-axis')\n",
        "plt.ylabel('y-axis')\n",
        "plt.grid(False)\n",
        "plt.xticks([])\n",
        "plt.yticks([])\n",
        "plt.show"
      ],
      "execution_count": 0,
      "outputs": []
    },
    {
      "cell_type": "code",
      "metadata": {
        "id": "5Nv067y6IMVt",
        "colab_type": "code",
        "colab": {}
      },
      "source": [
        "np.ones(100)"
      ],
      "execution_count": 0,
      "outputs": []
    },
    {
      "cell_type": "code",
      "metadata": {
        "id": "3YfaUNLv90MJ",
        "colab_type": "code",
        "colab": {}
      },
      "source": [
        "\n",
        "X=np.matrix((np.ones(num_point),x)).T\n",
        "X"
      ],
      "execution_count": 0,
      "outputs": []
    },
    {
      "cell_type": "code",
      "metadata": {
        "id": "yw2CbCLzAeHa",
        "colab_type": "code",
        "colab": {}
      },
      "source": [
        "Y=np.matrix(y).T\n",
        "Y"
      ],
      "execution_count": 0,
      "outputs": []
    },
    {
      "cell_type": "code",
      "metadata": {
        "id": "Lvl1TOuCDDii",
        "colab_type": "code",
        "colab": {}
      },
      "source": [
        "Ans =np.linalg.inv(X.T.dot(X)).dot(X.T).dot(Y)"
      ],
      "execution_count": 0,
      "outputs": []
    },
    {
      "cell_type": "code",
      "metadata": {
        "id": "ZEbzWsDkDKjW",
        "colab_type": "code",
        "colab": {
          "base_uri": "https://localhost:8080/",
          "height": 52
        },
        "outputId": "fb5de568-31e0-4054-c60b-6ea03b4015f1"
      },
      "source": [
        "Ans.reshape(2,1)"
      ],
      "execution_count": 126,
      "outputs": [
        {
          "output_type": "execute_result",
          "data": {
            "text/plain": [
              "matrix([[1.70624091],\n",
              "        [0.96887491]])"
            ]
          },
          "metadata": {
            "tags": []
          },
          "execution_count": 126
        }
      ]
    },
    {
      "cell_type": "code",
      "metadata": {
        "id": "UdXJ8Gh_FiyE",
        "colab_type": "code",
        "colab": {}
      },
      "source": [
        "xx = np.linspace(0,100,2)\n",
        "yy = np.array(Ans[0] + Ans[1]*xx)"
      ],
      "execution_count": 0,
      "outputs": []
    },
    {
      "cell_type": "code",
      "metadata": {
        "id": "j84ztowdGcl7",
        "colab_type": "code",
        "colab": {}
      },
      "source": [
        "plt.figure(4)\n",
        "plt.scatter( x , y ,s=40)\n",
        "plt.xlabel('x-axis')\n",
        "plt.ylabel('y-axis')\n",
        "plt.plot(xx,yy.T ,color = 'red')\n",
        "plt.show()"
      ],
      "execution_count": 0,
      "outputs": []
    }
  ]
}