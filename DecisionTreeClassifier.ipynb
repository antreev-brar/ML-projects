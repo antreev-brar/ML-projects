{
  "nbformat": 4,
  "nbformat_minor": 0,
  "metadata": {
    "colab": {
      "name": "DecisionTreeClassifier.ipynb",
      "provenance": [],
      "authorship_tag": "ABX9TyN+ECF5Ykzplu7ZVNr596cc",
      "include_colab_link": true
    },
    "kernelspec": {
      "name": "python3",
      "display_name": "Python 3"
    }
  },
  "cells": [
    {
      "cell_type": "markdown",
      "metadata": {
        "id": "view-in-github",
        "colab_type": "text"
      },
      "source": [
        "<a href=\"https://colab.research.google.com/github/antreev-brar/ML-projects/blob/master/DecisionTreeClassifier.ipynb\" target=\"_parent\"><img src=\"https://colab.research.google.com/assets/colab-badge.svg\" alt=\"Open In Colab\"/></a>"
      ]
    },
    {
      "cell_type": "code",
      "metadata": {
        "id": "6b_W06HMlqnN",
        "colab_type": "code",
        "colab": {}
      },
      "source": [
        "import sklearn\n",
        "import numpy as np\n",
        "import pandas as pd\n",
        "import sys\n",
        "import scipy as sp\n",
        "import IPython \n",
        "import matplotlib.pyplot as plt\n"
      ],
      "execution_count": 0,
      "outputs": []
    },
    {
      "cell_type": "code",
      "metadata": {
        "id": "CNctUV5nmDui",
        "colab_type": "code",
        "colab": {
          "base_uri": "https://localhost:8080/",
          "height": 34
        },
        "outputId": "42702068-909c-40a5-88b6-b45144fa16ff"
      },
      "source": [
        "from sklearn.datasets import load_breast_cancer\n",
        "data = load_breast_cancer()\n",
        "data.keys()"
      ],
      "execution_count": 62,
      "outputs": [
        {
          "output_type": "execute_result",
          "data": {
            "text/plain": [
              "dict_keys(['data', 'target', 'target_names', 'DESCR', 'feature_names', 'filename'])"
            ]
          },
          "metadata": {
            "tags": []
          },
          "execution_count": 62
        }
      ]
    },
    {
      "cell_type": "code",
      "metadata": {
        "id": "iKkzc_KCnJDi",
        "colab_type": "code",
        "colab": {
          "base_uri": "https://localhost:8080/",
          "height": 190
        },
        "outputId": "3dad259c-4082-430d-9ea0-d68687c83d7e"
      },
      "source": [
        "data['feature_names']"
      ],
      "execution_count": 63,
      "outputs": [
        {
          "output_type": "execute_result",
          "data": {
            "text/plain": [
              "array(['mean radius', 'mean texture', 'mean perimeter', 'mean area',\n",
              "       'mean smoothness', 'mean compactness', 'mean concavity',\n",
              "       'mean concave points', 'mean symmetry', 'mean fractal dimension',\n",
              "       'radius error', 'texture error', 'perimeter error', 'area error',\n",
              "       'smoothness error', 'compactness error', 'concavity error',\n",
              "       'concave points error', 'symmetry error',\n",
              "       'fractal dimension error', 'worst radius', 'worst texture',\n",
              "       'worst perimeter', 'worst area', 'worst smoothness',\n",
              "       'worst compactness', 'worst concavity', 'worst concave points',\n",
              "       'worst symmetry', 'worst fractal dimension'], dtype='<U23')"
            ]
          },
          "metadata": {
            "tags": []
          },
          "execution_count": 63
        }
      ]
    },
    {
      "cell_type": "code",
      "metadata": {
        "id": "Bh8b50xUnUJf",
        "colab_type": "code",
        "colab": {
          "base_uri": "https://localhost:8080/",
          "height": 52
        },
        "outputId": "f40c6902-22fe-44fa-cb1b-f88251dee99e"
      },
      "source": [
        "from sklearn.tree import DecisionTreeClassifier\n",
        "from sklearn.model_selection import train_test_split\n",
        "X_train ,X_test , Y_train , Y_test = train_test_split(data.data,data.target ,stratify = data.target ,random_state = 43)\n",
        "tree = DecisionTreeClassifier(random_state =9)\n",
        "tree = tree.fit(X_train , Y_train)\n",
        "print(\"Accuracy on training set: {:.3f}\".format(tree.score(X_train, Y_train)))\n",
        "print(\"accuracy on test_set :{}\".format(tree.score(X_test, Y_test)))"
      ],
      "execution_count": 64,
      "outputs": [
        {
          "output_type": "stream",
          "text": [
            "Accuracy on training set: 1.000\n",
            "accuracy on test_set :0.9370629370629371\n"
          ],
          "name": "stdout"
        }
      ]
    },
    {
      "cell_type": "code",
      "metadata": {
        "id": "fhukAPLvpuD_",
        "colab_type": "code",
        "colab": {
          "base_uri": "https://localhost:8080/",
          "height": 34
        },
        "outputId": "c7163b9c-430c-4aa6-c8a9-67b7969048af"
      },
      "source": [
        "print(tree.get_depth())"
      ],
      "execution_count": 65,
      "outputs": [
        {
          "output_type": "stream",
          "text": [
            "7\n"
          ],
          "name": "stdout"
        }
      ]
    },
    {
      "cell_type": "code",
      "metadata": {
        "id": "l3u5g4XJwBvb",
        "colab_type": "code",
        "colab": {
          "base_uri": "https://localhost:8080/",
          "height": 34
        },
        "outputId": "dd9b584f-9a06-4fc6-a93b-ffc63c1b94b3"
      },
      "source": [
        "print(data.data.shape[1])"
      ],
      "execution_count": 66,
      "outputs": [
        {
          "output_type": "stream",
          "text": [
            "30\n"
          ],
          "name": "stdout"
        }
      ]
    },
    {
      "cell_type": "code",
      "metadata": {
        "id": "bykrxipfrMvO",
        "colab_type": "code",
        "colab": {}
      },
      "source": [
        "#this doesnt work\n",
        "from sklearn.tree import export_graphviz\n",
        "export_graphviz(tree , out_file = 'tree.dot' , class_names =data.target_names , feature_names = data.feature_names , impurity =False , filled =True )\n",
        "import graphviz\n",
        "with open (\"tree.dot\") as f:\n",
        "  dot_graph = f.read()\n",
        "  graphviz.Source(dot_graph)"
      ],
      "execution_count": 0,
      "outputs": []
    },
    {
      "cell_type": "code",
      "metadata": {
        "id": "JIHgca3hr67G",
        "colab_type": "code",
        "colab": {
          "base_uri": "https://localhost:8080/",
          "height": 104
        },
        "outputId": "fd138c17-2099-42a2-dac4-2c2285bb79df"
      },
      "source": [
        "print (\"importances are :{}\".format(tree.feature_importances_))"
      ],
      "execution_count": 68,
      "outputs": [
        {
          "output_type": "stream",
          "text": [
            "importances are :[0.         0.0240831  0.00931787 0.         0.         0.00860111\n",
            " 0.00131378 0.         0.         0.         0.         0.00668975\n",
            " 0.         0.         0.         0.         0.         0.\n",
            " 0.         0.         0.         0.03825736 0.72611333 0.03105379\n",
            " 0.         0.00980885 0.00326886 0.14149219 0.         0.        ]\n"
          ],
          "name": "stdout"
        }
      ]
    },
    {
      "cell_type": "code",
      "metadata": {
        "id": "tcM_C4VTvfVP",
        "colab_type": "code",
        "colab": {
          "base_uri": "https://localhost:8080/",
          "height": 605
        },
        "outputId": "80cbeb24-4e16-4ea2-c46f-3e0e2b7c407d"
      },
      "source": [
        "def plot_something(model):\n",
        "  plt.figure(figsize=(20,10))\n",
        "  n_features = data.data.shape[1]\n",
        "  plt.barh(range(n_features), model.feature_importances_ , align ='center' )\n",
        "  plt.yticks(np.arange(n_features) , data.feature_names)\n",
        "  plt.xlabel(\"feature importance\")\n",
        "  plt.ylabel(\"features\")\n",
        "  \n",
        "plot_something(tree)"
      ],
      "execution_count": 69,
      "outputs": [
        {
          "output_type": "display_data",
          "data": {
            "image/png": "[encoded data removed]",
            "text/plain": [
              "<Figure size 1440x720 with 1 Axes>"
            ]
          },
          "metadata": {
            "tags": [],
            "needs_background": "light"
          }
        }
      ]
    }
  ]
}